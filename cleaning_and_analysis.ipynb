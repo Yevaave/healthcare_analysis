{
 "cells": [
  {
   "cell_type": "markdown",
   "metadata": {},
   "source": [
    "#  Pulse of the Nation: A Statistical Investigation into the Vital Signs of Armenian Healthcare"
   ]
  },
  {
   "cell_type": "markdown",
   "metadata": {},
   "source": [
    "- Students: Anush Aghinyan, Yeva Avetisyan\n",
    "- Supervisor: Gurgen Hovakimyan"
   ]
  },
  {
   "cell_type": "markdown",
   "metadata": {},
   "source": [
    "## Needed libraries"
   ]
  },
  {
   "cell_type": "code",
   "execution_count": 2,
   "metadata": {},
   "outputs": [],
   "source": [
    "import pandas as pd\n",
    "import numpy as np\n",
    "import matplotlib.pyplot as plt\n",
    "import seaborn as sns\n",
    "from scipy import stats\n",
    "from datetime import date\n",
    "\n",
    "import re"
   ]
  },
  {
   "cell_type": "code",
   "execution_count": 3,
   "metadata": {},
   "outputs": [],
   "source": [
    "today = date.today()"
   ]
  },
  {
   "cell_type": "code",
   "execution_count": 4,
   "metadata": {},
   "outputs": [],
   "source": [
    "data = pd.read_csv('foryevacsv.csv')\n",
    "# data = pd.read_csv('cleaned_data.csv')"
   ]
  },
  {
   "cell_type": "code",
   "execution_count": 5,
   "metadata": {},
   "outputs": [
    {
     "name": "stdout",
     "output_type": "stream",
     "text": [
      "<class 'pandas.core.frame.DataFrame'>\n",
      "RangeIndex: 250033 entries, 0 to 250032\n",
      "Data columns (total 13 columns):\n",
      " #   Column               Non-Null Count   Dtype \n",
      "---  ------               --------------   ----- \n",
      " 0   N                    250033 non-null  int64 \n",
      " 1   Insured person Code  250028 non-null  object\n",
      " 2   Work sphere          250033 non-null  object\n",
      " 3   Start Date           250033 non-null  object\n",
      " 4   End Date             250033 non-null  object\n",
      " 5   DOB                  250000 non-null  object\n",
      " 6   Sex                  250033 non-null  object\n",
      " 7   Region               250033 non-null  object\n",
      " 8   Claim Code           250033 non-null  object\n",
      " 9   Claim Status         249885 non-null  object\n",
      " 10  Illness/ICD Code     249957 non-null  object\n",
      " 11  Illness/Category     250033 non-null  object\n",
      " 12  Claim Amount         250033 non-null  object\n",
      "dtypes: int64(1), object(12)\n",
      "memory usage: 24.8+ MB\n"
     ]
    }
   ],
   "source": [
    "data.info()"
   ]
  },
  {
   "cell_type": "markdown",
   "metadata": {},
   "source": [
    "# Data cleaning"
   ]
  },
  {
   "cell_type": "markdown",
   "metadata": {},
   "source": [
    "## - datetime, DOB"
   ]
  },
  {
   "cell_type": "code",
   "execution_count": 6,
   "metadata": {},
   "outputs": [],
   "source": [
    "# Drop null values\n",
    "data.dropna(inplace = True)"
   ]
  },
  {
   "cell_type": "code",
   "execution_count": 7,
   "metadata": {},
   "outputs": [],
   "source": [
    "# Convert 'Start date' column to datetime format\n",
    "data['Start Date'] = pd.to_datetime(data['Start Date'])"
   ]
  },
  {
   "cell_type": "code",
   "execution_count": 8,
   "metadata": {},
   "outputs": [],
   "source": [
    "# Convert 'End date' column to datetime format\n",
    "data['End Date'] = pd.to_datetime(data['End Date'])"
   ]
  },
  {
   "cell_type": "code",
   "execution_count": 9,
   "metadata": {},
   "outputs": [],
   "source": [
    "# Find contract longevity\n",
    "data['Contract Longevity'] = data['End Date'] - data['Start Date']"
   ]
  },
  {
   "cell_type": "code",
   "execution_count": 10,
   "metadata": {},
   "outputs": [],
   "source": [
    "# Get unique values\n",
    "unique_values = np.unique(data['DOB'])"
   ]
  },
  {
   "cell_type": "code",
   "execution_count": 11,
   "metadata": {},
   "outputs": [],
   "source": [
    "# Identify problematic values\n",
    "problematic_values = [value for value in unique_values if not str(value).isdigit()]"
   ]
  },
  {
   "cell_type": "code",
   "execution_count": 12,
   "metadata": {},
   "outputs": [],
   "source": [
    "# # Replace problematic values with NaN or some other placeholder\n",
    "# data['DOB'] = data['DOB'].replace(problematic_values, np.nan)\n",
    "\n",
    "# # takes a bit long to run"
   ]
  },
  {
   "cell_type": "code",
   "execution_count": 13,
   "metadata": {},
   "outputs": [],
   "source": [
    "# # Convert 'DOB' column to datetime format after replacing problematic values\n",
    "# data['DOB'] = pd.to_datetime(data['DOB'], errors = 'coerce', format = 'mixed')"
   ]
  },
  {
   "cell_type": "code",
   "execution_count": 14,
   "metadata": {},
   "outputs": [],
   "source": [
    "def extract_year(date_str):\n",
    "    match = re.search(r'\\d{4}', date_str)\n",
    "    if match:\n",
    "        return match.group(0)\n",
    "    else:\n",
    "        return None"
   ]
  },
  {
   "cell_type": "code",
   "execution_count": 15,
   "metadata": {},
   "outputs": [
    {
     "data": {
      "text/plain": [
       "array(['###############################################################################################################################################################################################################################################################',\n",
       "       '1/1/1940', '1/1/1941', ..., '9/9/2019', '9/9/2021', '9/9/2022'],\n",
       "      dtype=object)"
      ]
     },
     "execution_count": 15,
     "metadata": {},
     "output_type": "execute_result"
    }
   ],
   "source": [
    "np.unique(data['DOB'])"
   ]
  },
  {
   "cell_type": "code",
   "execution_count": 16,
   "metadata": {},
   "outputs": [],
   "source": [
    "data['BirthYear'] = data['DOB'].apply(extract_year)\n",
    "data.dropna(subset=[\"BirthYear\"], inplace = True)"
   ]
  },
  {
   "cell_type": "code",
   "execution_count": 17,
   "metadata": {},
   "outputs": [],
   "source": [
    "data['BirthYear'] = data['BirthYear'].astype(int)"
   ]
  },
  {
   "cell_type": "code",
   "execution_count": 18,
   "metadata": {},
   "outputs": [],
   "source": [
    "data = data[data['BirthYear']<= 2024]\n",
    "data = data[data['BirthYear']>= 1914]"
   ]
  },
  {
   "cell_type": "code",
   "execution_count": 19,
   "metadata": {},
   "outputs": [
    {
     "data": {
      "text/plain": [
       "count    249755.000000\n",
       "mean       1988.324702\n",
       "std          14.674593\n",
       "min        1930.000000\n",
       "25%        1981.000000\n",
       "50%        1989.000000\n",
       "75%        1996.000000\n",
       "max        2024.000000\n",
       "Name: BirthYear, dtype: float64"
      ]
     },
     "execution_count": 19,
     "metadata": {},
     "output_type": "execute_result"
    }
   ],
   "source": [
    "data['BirthYear'].describe()"
   ]
  },
  {
   "cell_type": "code",
   "execution_count": 20,
   "metadata": {},
   "outputs": [],
   "source": [
    "# Add a column Age that finds the age of each insured person\n",
    "data['Age'] = 2024 - data[\"BirthYear\"] # if it will drop an error use int(year)"
   ]
  },
  {
   "cell_type": "code",
   "execution_count": 21,
   "metadata": {},
   "outputs": [
    {
     "data": {
      "text/plain": [
       "count    249755.000000\n",
       "mean         35.675298\n",
       "std          14.674593\n",
       "min           0.000000\n",
       "25%          28.000000\n",
       "50%          35.000000\n",
       "75%          43.000000\n",
       "max          94.000000\n",
       "Name: Age, dtype: float64"
      ]
     },
     "execution_count": 21,
     "metadata": {},
     "output_type": "execute_result"
    }
   ],
   "source": [
    "data['Age'].describe()"
   ]
  },
  {
   "cell_type": "markdown",
   "metadata": {},
   "source": [
    "## - removing unnecessary signs\n",
    "## - removing whitespace"
   ]
  },
  {
   "cell_type": "code",
   "execution_count": 22,
   "metadata": {},
   "outputs": [],
   "source": [
    "# Replace hyphens and multiple spaces with 0 in the 'Claim Amount' column\n",
    "data[\"Claim Amount\"] = data['Claim Amount'].replace(\"-\", 0)\n",
    "data[\"Claim Amount\"] = data['Claim Amount'].replace(\" -   \", 0)"
   ]
  },
  {
   "cell_type": "code",
   "execution_count": 23,
   "metadata": {},
   "outputs": [],
   "source": [
    "# Convert Claim Amount to floating-point number\n",
    "data['Claim Amount'] = data['Claim Amount'].astype(\"float\")"
   ]
  },
  {
   "cell_type": "markdown",
   "metadata": {},
   "source": [
    "# Check unique values of Sex\n",
    "np.unique(data[\"Sex\"])"
   ]
  },
  {
   "cell_type": "markdown",
   "metadata": {},
   "source": [
    "# Standardize Sex column"
   ]
  },
  {
   "cell_type": "markdown",
   "metadata": {},
   "source": [
    "# Check unique values of Sex again\n",
    "np.unique(data[\"Sex\"])"
   ]
  },
  {
   "cell_type": "markdown",
   "metadata": {},
   "source": [
    "# -----"
   ]
  },
  {
   "cell_type": "code",
   "execution_count": 24,
   "metadata": {},
   "outputs": [
    {
     "data": {
      "text/plain": [
       "Sex\n",
       " Անհայտ     1.274201e+08\n",
       " Արական     3.321621e+06\n",
       " Իգական     2.068147e+09\n",
       "Արական      2.902535e+09\n",
       "Իգական      2.179531e+09\n",
       "Name: Claim Amount, dtype: float64"
      ]
     },
     "execution_count": 24,
     "metadata": {},
     "output_type": "execute_result"
    }
   ],
   "source": [
    "data.groupby(['Sex'])['Claim Amount'].sum()"
   ]
  },
  {
   "cell_type": "code",
   "execution_count": 25,
   "metadata": {},
   "outputs": [
    {
     "data": {
      "text/plain": [
       "Region\n",
       " Անհայտ          625850287.0\n",
       " Արագածոտն          170136.0\n",
       " Արարատ             224262.0\n",
       " Արմավիր            168794.0\n",
       " Գեղարքունիք        181075.0\n",
       "                    ...     \n",
       "Փարաքար             275110.0\n",
       "Փոքր Մանթաշ         100990.0\n",
       "Քաջարան              82803.0\n",
       "Քասախ               247000.0\n",
       "Օձուն                26128.0\n",
       "Name: Claim Amount, Length: 69, dtype: float64"
      ]
     },
     "execution_count": 25,
     "metadata": {},
     "output_type": "execute_result"
    }
   ],
   "source": [
    "data.groupby(['Region'])['Claim Amount'].sum()"
   ]
  },
  {
   "cell_type": "markdown",
   "metadata": {},
   "source": [
    "## - checking unique values of Region, Claim Status, Work sphere, and Illness/Category columns\n",
    "## - translating "
   ]
  },
  {
   "cell_type": "code",
   "execution_count": 26,
   "metadata": {
    "scrolled": true
   },
   "outputs": [
    {
     "data": {
      "text/plain": [
       "array(['Canceled', 'Satisfied', 'Unsatisfied', 'Հայտի բացում',\n",
       "       'Հայտի վերջնական կարգավորում', 'Նախնական'], dtype=object)"
      ]
     },
     "execution_count": 26,
     "metadata": {},
     "output_type": "execute_result"
    }
   ],
   "source": [
    "np.unique(data[\"Claim Status\"])"
   ]
  },
  {
   "cell_type": "code",
   "execution_count": 27,
   "metadata": {
    "scrolled": true
   },
   "outputs": [
    {
     "data": {
      "text/plain": [
       "array(['Ալերգոլոգիա', 'Ակնաբուժություն', 'Այրվածքաբանություն', 'Անհայտ',\n",
       "       'Անոթաբանություն', 'Ատամնաբուժություն', 'Գաստրոէնտերոլոգիա',\n",
       "       'Գինեկոլոգիա', 'Դիմածնոտային վիրաբուժություն',\n",
       "       'Ընդհանուր վիրաբուժություն', 'Ընտանեկան բժիշկ', 'Թունաբանություն',\n",
       "       'Թոքաբանություն', 'Ծննդօգնություն', 'Հեմատոլոգիա', 'Հղիություն',\n",
       "       'Հոգեբուժություն', 'Մանկաբուժություն', 'Մաշկաբանություն',\n",
       "       'Նախնական զննում', 'Նեյրովիրաբուժություն', 'Նեոնատոլոգիա',\n",
       "       'Ներզատաբանություն', 'Նեֆրոլոգիական', 'Նյարդաբանություն',\n",
       "       'Ողնաշարաբանություն', 'Ուռուցքաբանություն', 'Ուրոլոգիա',\n",
       "       'Պարտադիր բժշկական զննություն', 'Պարտադիր պրոֆ. զննում',\n",
       "       'Պրոկտոլոգիա', 'Ռևմատոլոգիա', 'Սրտաբանություն', 'Վարակաբանություն',\n",
       "       'Վնասվածքաբանություն', 'Տարեկան բուժ զննում', 'ՔԿԱ'], dtype=object)"
      ]
     },
     "execution_count": 27,
     "metadata": {},
     "output_type": "execute_result"
    }
   ],
   "source": [
    "np.unique(data[\"Illness/Category\"])"
   ]
  },
  {
   "cell_type": "code",
   "execution_count": 28,
   "metadata": {
    "scrolled": true
   },
   "outputs": [
    {
     "data": {
      "text/plain": [
       "array([' Անհայտ ', ' Արագածոտն ', ' Արարատ ', ' Արմավիր ',\n",
       "       ' Գեղարքունիք ', ' Երևան ', ' ԼՂՀ ', ' Լոռի ', ' Կոտայք ',\n",
       "       ' Շիրակ ', ' Սյունիք ', ' Վայոց Ձոր ', ' Տավուշ ', 'Աբովյան',\n",
       "       'Ագարակաձոր', 'Ալավերդի', 'Աշտարակ', 'Առինջ', 'Արագածոտն',\n",
       "       'Արարատ', 'Արենի', 'Արզնի', 'Արթիկ', 'Արմավիր', 'Արշալույս',\n",
       "       'Բյուրեղավան', 'Գավառ', 'Գեղարքունիք', 'Գետազատ', 'Գետամեջ',\n",
       "       'Գյումրի', 'Գորիս', 'Դալարիկ', 'Եղեգնաձոր', 'Եղվարդ', 'Երևան',\n",
       "       'Թալին', 'ԼՂՀ', 'Լոռի', 'Լուսառատ', 'Կապան', 'Կարենիս', 'Կոտայք',\n",
       "       'Հաղարծին', 'Հրազդան', 'Մասիս', 'Մարալիկ', 'Մարտունի', 'Մեծամոր',\n",
       "       'Մրգաստան', 'Շիրակ', 'Չարենցավան', 'Ջերմուկ', 'Ջրաշեն', 'Ջրվեժ',\n",
       "       'Ռինդ', 'Սյունիք', 'Սպիտակ', 'Վաղարշապատ(Էջմ.)', 'Վայոց Ձոր',\n",
       "       'Վայք', 'Վանաձոր', 'Վեդի', 'Տավուշ', 'Փարաքար', 'Փոքր Մանթաշ',\n",
       "       'Քաջարան', 'Քասախ', 'Օձուն'], dtype=object)"
      ]
     },
     "execution_count": 28,
     "metadata": {},
     "output_type": "execute_result"
    }
   ],
   "source": [
    "np.unique(data['Region'])"
   ]
  },
  {
   "cell_type": "code",
   "execution_count": 29,
   "metadata": {
    "scrolled": true
   },
   "outputs": [
    {
     "data": {
      "text/plain": [
       "array([' Առողջապահություն ',\n",
       "       ' Գյուղատնտեսություն, անտառային տնտեսություն և ձկնորսություն ',\n",
       "       ' Էլեկտրականության, գազի, գոլորշու և լավորակ օդի մատակարարում ',\n",
       "       ' Կացության և հանրային սննդի կազմակերպում ', ' Կրթություն ',\n",
       "       ' Հանքագործական արդյունաբերություն և բացահանքերի շահագործում ',\n",
       "       ' Մասնագիտական, գիտական և տեխնիկական գործունեություն ',\n",
       "       ' Մեծածախ և մանրածախ առևտուր. Ավտոմեքենաների և մոտոցիկլների նորոգում ',\n",
       "       ' Մշակող արդյունաբերություն ', ' Մշակույթ, զվարճություն, հանգիստ ',\n",
       "       ' Պետական կառավարում և պաշտպանություն ',\n",
       "       ' Ջրամատակարարում, կոյուղի, թափոնների կառավարում և վերամշակում ',\n",
       "       ' Վարչարարական և օժանդակ գործունեություն ',\n",
       "       ' Տեղեկատվություն և կապ ',\n",
       "       ' Փոխադրումներ և պահեստային տնտեսություն ', ' Ֆիզ․անձ/ԱՁ/անհայտ ',\n",
       "       ' Ֆինանսական և ապահովագրական գործունեություն '], dtype=object)"
      ]
     },
     "execution_count": 29,
     "metadata": {},
     "output_type": "execute_result"
    }
   ],
   "source": [
    "np.unique(data[\"Work sphere\"])"
   ]
  },
  {
   "cell_type": "code",
   "execution_count": 30,
   "metadata": {
    "scrolled": true
   },
   "outputs": [
    {
     "data": {
      "text/plain": [
       "array([' Անհայտ ', ' Արական ', ' Իգական ', 'Արական', 'Իգական'],\n",
       "      dtype=object)"
      ]
     },
     "execution_count": 30,
     "metadata": {},
     "output_type": "execute_result"
    }
   ],
   "source": [
    "np.unique(data[\"Sex\"])"
   ]
  },
  {
   "cell_type": "code",
   "execution_count": 31,
   "metadata": {},
   "outputs": [],
   "source": [
    "# Dictionary for translating Claim Status\n",
    "translation_dict = {\n",
    "    \"Հայտի վերջնական կարգավորում\": \"Final claim confirmation\",\n",
    "    \"Նախնական\": \"Initial\",\n",
    "    \"Հայտի բացում\": \"Claim creation\",\n",
    "    \"Satisfied\": \"Satisfied\",\n",
    "    \"Canceled\": \"Canceled\",\n",
    "    \"Unsatisfied\": \"Unsatisfied\"\n",
    "}\n",
    "\n",
    "data[\"Claim Status\"] = data[\"Claim Status\"].map(translation_dict)"
   ]
  },
  {
   "cell_type": "code",
   "execution_count": 32,
   "metadata": {},
   "outputs": [],
   "source": [
    "# Dictionary for translating illness/category\n",
    "translation_dict = {\n",
    "    \"Ալերգոլոգիա\":\"Allergology\",\n",
    "    \"Ակնաբուժություն\":\"Ophthalmology\",\n",
    "    \"Այրվածքաբանություն\":\"Dermatology\",\n",
    "    \"Անհայտ\":\"Unknown\",\n",
    "    \"Անոթաբանություն\":\"Angiology\",\n",
    "    \"Ատամնաբուժություն\":\"Dentistry\",\n",
    "    \"Գաստրոէնտերոլոգիա\":\"Gastroenterology\",\n",
    "    \"Գինեկոլոգիա\":\"Gynecology\",\n",
    "    \"Դիմածնոտային վիրաբուժություն\":\"Maxillofacial surgery\",\n",
    "    \"Ընդհանուր վիրաբուժություն\":\"General surgery\",\n",
    "    \"Ընտանեկան բժիշկ\":\"Family doctor\",\n",
    "    \"Թունաբանություն\":\"Toxicology\",\n",
    "    \"Թոքաբանություն\":\"Pulmonology\",\n",
    "    \"Ծննդօգնություն\":\"Obstetrics\",\n",
    "    \"Հեմատոլոգիա\":\"Hematology\",\n",
    "    \"Հղիություն\":\"Pregnancy\",\n",
    "    \"Հոգեբուժություն\":\"Psychiatry\",\n",
    "    \"Մանկաբուժություն\":\"Pediatrics\",\n",
    "    \"Մաշկաբանություն\":\"Dermatology\",\n",
    "    \"Նախնական զննում\":\"Initial screening\",\n",
    "    \"Նեյրովիրաբուժություն\":\"Neurosurgery\",\n",
    "    \"Նեոնատոլոգիա\":\"Neonatology\",\n",
    "    \"Ներզատաբանություն\":\"Endocrinology\",\n",
    "    \"Նեֆրոլոգիական\":\"Nephrological\",\n",
    "    \"Նյարդաբանություն\":\"Neurology\",\n",
    "    \"Ողնաշարաբանություն\":\"Vertebrology\",\n",
    "    \"Ուռուցքաբանություն\":\"Oncology\",\n",
    "    \"Ուրոլոգիա\":\"Urology\",\n",
    "    \"Պարտադիր բժշկական զննություն\":\"Mandatory medical examination\",\n",
    "    \"Պարտադիր պրոֆ. զննում\":\"Mandatory examination\",\n",
    "    \"Պրոկտոլոգիա\":\"Proctology\",\n",
    "    \"Ռևմատոլոգիա\":\"Rheumatology\",\n",
    "    \"Սրտաբանություն\":\"Cardiology\",\n",
    "    \"Վարակաբանություն\":\"Epidemiology\",\n",
    "    \"Վնասվածքաբանություն\":\"Traumatology\",\n",
    "    \"Տարեկան բուժ զննում\":\"Annual medical examination\",\n",
    "    \"ՔԿԱ\":\"ENT\"\n",
    "}\n",
    "\n",
    "data[\"Illness/Category\"] = data[\"Illness/Category\"].map(translation_dict)"
   ]
  },
  {
   "cell_type": "code",
   "execution_count": 33,
   "metadata": {},
   "outputs": [],
   "source": [
    "# Dictionary for translating Regions\n",
    "translation_dict = {\n",
    "    \" Անհայտ \": \"Yerevan\", \n",
    "    \" Երևան \": \"Yerevan\",\n",
    "    \"Երևան\": \"Yerevan\",\n",
    "    \" Արագածոտն \":  \"Aragatsotn\",\n",
    "    \"Արագածոտն\": \"Aragatsotn\",\n",
    "    \"Աշտարակ\": \"Aragatsotn\",\n",
    "    \"Թալին\": \"Aragatsotn\",\n",
    "    \" Արարատ \": \"Ararat\",\n",
    "    \"Արարատ\": \"Ararat\",\n",
    "    \"Գետազատ\": \"Ararat\",\n",
    "    \"Լուսառատ\": \"Ararat\",\n",
    "    \"Մասիս\": \"Ararat\",\n",
    "    \"Վեդի\": \"Ararat\",\n",
    "    \" Արմավիր \": \"Armavir\",\n",
    "    \"Արմավիր\": \"Armavir\",\n",
    "    \"Արշալույս\": \"Armavir\",\n",
    "    \"Դալարիկ\": \"Armavir\",\n",
    "    \"Մեծամոր\": \"Armavir\",\n",
    "    \"Մրգաստան\": \"Armavir\",\n",
    "    \"Վաղարշապատ(Էջմ.)\": \"Armavir\",\n",
    "    \"Փարաքար\": \"Armavir\",\n",
    "    \" Գեղարքունիք \": \"Gegharkunik\",\n",
    "    \"Գեղարքունիք\": \"Gegharkunik\",\n",
    "    \"Գավառ\": \"Gegharkunik\",\n",
    "    \"Մարտունի\": \"Gegharkunik\",\n",
    "    \" Վայոց Ձոր \": \"Vayots Dzor\",\n",
    "    \"Վայոց Ձոր\": \"Vayots Dzor\",\n",
    "    \"Ագարակաձոր\": \"Vayots Dzor\",\n",
    "    \"Արենի\": \"Vayots Dzor\",\n",
    "    \"Եղեգնաձոր\": \"Vayots Dzor\",\n",
    "    \"Ջերմուկ\": \"Vayots Dzor\",\n",
    "    \"Ռինդ\": \"Vayots Dzor\",\n",
    "    \"Վայք\": \"Vayots Dzor\",\n",
    "    \" Տավուշ \": \"Tavush\",\n",
    "    \"Տավուշ\": \"Tavush\",\n",
    "    \"Հաղարծին\": \"Tavush\",\n",
    "    \" Կոտայք \": \"Kotayk\",\n",
    "    \"Կոտայք\": \"Kotayk\",\n",
    "    \"Աբովյան\": \"Kotayk\",\n",
    "    \"Առինջ\": \"Kotayk\",\n",
    "    \"Արզնի\": \"Kotayk\",\n",
    "    \"Բյուրեղավան\": \"Kotayk\",\n",
    "    \"Գետամեջ\": \"Kotayk\",\n",
    "    \"Եղվարդ\": \"Kotayk\",\n",
    "    \"Կարենիս\": \"Kotayk\",\n",
    "    \"Հրազդան\": \"Kotayk\",\n",
    "    \"Չարենցավան\": \"Kotayk\",\n",
    "    \"Ջրվեժ\": \"Kotayk\",\n",
    "    \"Քասախ\": \"Kotayk\",\n",
    "    \" Լոռի \": \"Lori\",\n",
    "    \"Լոռի\": \"Lori\",\n",
    "    \"Ալավերդի\": \"Lori\",\n",
    "    \"Ջրաշեն\": \"Lori\",\n",
    "    \"Սպիտակ\": \"Lori\",\n",
    "    \"Վանաձոր\": \"Lori\",\n",
    "    \"Օձուն\": \"Lori\",\n",
    "    \" Շիրակ \": \"Shirak\",\n",
    "    \"Շիրակ\": \"Shirak\",\n",
    "    \"Արթիկ\": \"Shirak\",\n",
    "    \"Գյումրի\": \"Shirak\",\n",
    "    \"Մարալիկ\": \"Shirak\",\n",
    "    \"Փոքր Մանթաշ\": \"Shirak\",\n",
    "    \" Սյունիք \": \"Syunik\",\n",
    "    \"Սյունիք\": \"Syunik\",\n",
    "    \"Գորիս\": \"Syunik\",\n",
    "    \"Կապան\": \"Syunik\",\n",
    "    \"Քաջարան\": \"Syunik\",\n",
    "    \"ԼՂՀ\": \"Artsakh\"\n",
    "}\n",
    "\n",
    "data[\"Region\"] = data[\"Region\"].map(translation_dict)"
   ]
  },
  {
   "cell_type": "code",
   "execution_count": 34,
   "metadata": {},
   "outputs": [],
   "source": [
    "# Dictionary for translating Work sphere\n",
    "translation_dict = {\n",
    "    \" Առողջապահություն \": \"Healthcare\",\n",
    "    \" Գյուղատնտեսություն, անտառային տնտեսություն և ձկնորսություն \": \"Agriculture, forestry and fishing\",\n",
    "    \" Կացության և հանրային սննդի կազմակերպում \": \"Organization of accomodation and food safety\",\n",
    "    \" Էլեկտրականության, գազի, գոլորշու և լավորակ օդի մատակարարում \": \"Supply of electricity, gas, steam and good quality air\",\n",
    "    \" Կրթություն \": \"Education\",\n",
    "    \" Հանքագործական արդյունաբերություն և բացահանքերի շահագործում \": \"Mining industry and open pit operations\",\n",
    "    \" Մեծածախ և մանրածախ առևտուր. Ավտոմեքենաների և մոտոցիկլների նորոգում \": \"Wholesale and retail trade. Car and motorcycle repair\",\n",
    "    \" Մասնագիտական, գիտական և տեխնիկական գործունեություն \": \"Professional, scientific and technical activities\",\n",
    "    \" Պետական կառավարում և պաշտպանություն \": \"Public administration and defense\",\n",
    "    \" Մշակույթ, զվարճություն, հանգիստ \": \"Culture, entertainment, relaxation\",\n",
    "    \" Մշակող արդյունաբերություն \": \"Manufacturing\",\n",
    "    \" Տեղեկատվություն և կապ \": \"Information and connection\",\n",
    "    \" Վարչարարական և օժանդակ գործունեություն \": \"Administartive and supportive activities\",\n",
    "    \" Փոխադրումներ և պահեստային տնտեսություն \": \"Transportation and warehousing\",\n",
    "    \" Ֆինանսական և ապահովագրական գործունեություն \": \"Financial and insurance activities\",\n",
    "    \" Ֆիզ․անձ/ԱՁ/անհայտ \": \"Individual entrepreneur\",\n",
    "    \" Ջրամատակարարում, կոյուղի, թափոնների կառավարում և վերամշակում \": \"Water supply, sewage, waste management and recycling\",\n",
    "}\n",
    "\n",
    "data[\"Work sphere\"] = data[\"Work sphere\"].map(translation_dict)"
   ]
  },
  {
   "cell_type": "code",
   "execution_count": 35,
   "metadata": {},
   "outputs": [],
   "source": [
    "# Dictionary for translating Sex\n",
    "translation_dict = {\n",
    "    \" Անհայտ \": \"Unknown\",\n",
    "    \" Արական \": \"Male\",\n",
    "    \"Արական\": \"Male\",\n",
    "    \" Իգական \": \"Female\",\n",
    "    \"Իգական\": \"Female\"\n",
    "}\n",
    "\n",
    "data[\"Sex\"] = data[\"Sex\"].map(translation_dict)"
   ]
  },
  {
   "cell_type": "code",
   "execution_count": 36,
   "metadata": {},
   "outputs": [
    {
     "data": {
      "text/html": [
       "<div>\n",
       "<style scoped>\n",
       "    .dataframe tbody tr th:only-of-type {\n",
       "        vertical-align: middle;\n",
       "    }\n",
       "\n",
       "    .dataframe tbody tr th {\n",
       "        vertical-align: top;\n",
       "    }\n",
       "\n",
       "    .dataframe thead th {\n",
       "        text-align: right;\n",
       "    }\n",
       "</style>\n",
       "<table border=\"1\" class=\"dataframe\">\n",
       "  <thead>\n",
       "    <tr style=\"text-align: right;\">\n",
       "      <th></th>\n",
       "      <th>N</th>\n",
       "      <th>Insured person Code</th>\n",
       "      <th>Work sphere</th>\n",
       "      <th>Start Date</th>\n",
       "      <th>End Date</th>\n",
       "      <th>DOB</th>\n",
       "      <th>Sex</th>\n",
       "      <th>Region</th>\n",
       "      <th>Claim Code</th>\n",
       "      <th>Claim Status</th>\n",
       "      <th>Illness/ICD Code</th>\n",
       "      <th>Illness/Category</th>\n",
       "      <th>Claim Amount</th>\n",
       "      <th>Contract Longevity</th>\n",
       "      <th>BirthYear</th>\n",
       "      <th>Age</th>\n",
       "    </tr>\n",
       "  </thead>\n",
       "  <tbody>\n",
       "    <tr>\n",
       "      <th>0</th>\n",
       "      <td>1</td>\n",
       "      <td>QH6419321</td>\n",
       "      <td>Individual entrepreneur</td>\n",
       "      <td>2022-06-18</td>\n",
       "      <td>2023-06-17</td>\n",
       "      <td>14/10/2005</td>\n",
       "      <td>Female</td>\n",
       "      <td>Lori</td>\n",
       "      <td>GT2916303634</td>\n",
       "      <td>Satisfied</td>\n",
       "      <td>K02</td>\n",
       "      <td>Dentistry</td>\n",
       "      <td>18000.0</td>\n",
       "      <td>364 days</td>\n",
       "      <td>2005</td>\n",
       "      <td>19</td>\n",
       "    </tr>\n",
       "    <tr>\n",
       "      <th>1</th>\n",
       "      <td>2</td>\n",
       "      <td>IY5242264</td>\n",
       "      <td>Wholesale and retail trade. Car and motorcycle...</td>\n",
       "      <td>2022-01-07</td>\n",
       "      <td>2023-06-30</td>\n",
       "      <td>29/06/1988</td>\n",
       "      <td>Female</td>\n",
       "      <td>Yerevan</td>\n",
       "      <td>JU4564505110</td>\n",
       "      <td>Satisfied</td>\n",
       "      <td>E55,Y44.1</td>\n",
       "      <td>Family doctor</td>\n",
       "      <td>37000.0</td>\n",
       "      <td>539 days</td>\n",
       "      <td>1988</td>\n",
       "      <td>36</td>\n",
       "    </tr>\n",
       "    <tr>\n",
       "      <th>2</th>\n",
       "      <td>3</td>\n",
       "      <td>CR2990565</td>\n",
       "      <td>Professional, scientific and technical activities</td>\n",
       "      <td>2023-10-02</td>\n",
       "      <td>2024-09-02</td>\n",
       "      <td>25/10/1975</td>\n",
       "      <td>Female</td>\n",
       "      <td>Tavush</td>\n",
       "      <td>VD6289680601</td>\n",
       "      <td>Satisfied</td>\n",
       "      <td>K02,K03.6,K04</td>\n",
       "      <td>Dentistry</td>\n",
       "      <td>45000.0</td>\n",
       "      <td>336 days</td>\n",
       "      <td>1975</td>\n",
       "      <td>49</td>\n",
       "    </tr>\n",
       "    <tr>\n",
       "      <th>3</th>\n",
       "      <td>4</td>\n",
       "      <td>CE9774993</td>\n",
       "      <td>Financial and insurance activities</td>\n",
       "      <td>2023-01-01</td>\n",
       "      <td>2023-12-31</td>\n",
       "      <td>4/10/1983</td>\n",
       "      <td>Female</td>\n",
       "      <td>Yerevan</td>\n",
       "      <td>KD9088354072</td>\n",
       "      <td>Satisfied</td>\n",
       "      <td>M54</td>\n",
       "      <td>Neurology</td>\n",
       "      <td>0.0</td>\n",
       "      <td>364 days</td>\n",
       "      <td>1983</td>\n",
       "      <td>41</td>\n",
       "    </tr>\n",
       "    <tr>\n",
       "      <th>4</th>\n",
       "      <td>5</td>\n",
       "      <td>EA2798820</td>\n",
       "      <td>Information and connection</td>\n",
       "      <td>2023-03-15</td>\n",
       "      <td>2024-03-14</td>\n",
       "      <td>28/04/1990</td>\n",
       "      <td>Male</td>\n",
       "      <td>Yerevan</td>\n",
       "      <td>GR2730567929</td>\n",
       "      <td>Satisfied</td>\n",
       "      <td>M54.5,R25.2</td>\n",
       "      <td>Neurology</td>\n",
       "      <td>110960.0</td>\n",
       "      <td>365 days</td>\n",
       "      <td>1990</td>\n",
       "      <td>34</td>\n",
       "    </tr>\n",
       "    <tr>\n",
       "      <th>...</th>\n",
       "      <td>...</td>\n",
       "      <td>...</td>\n",
       "      <td>...</td>\n",
       "      <td>...</td>\n",
       "      <td>...</td>\n",
       "      <td>...</td>\n",
       "      <td>...</td>\n",
       "      <td>...</td>\n",
       "      <td>...</td>\n",
       "      <td>...</td>\n",
       "      <td>...</td>\n",
       "      <td>...</td>\n",
       "      <td>...</td>\n",
       "      <td>...</td>\n",
       "      <td>...</td>\n",
       "      <td>...</td>\n",
       "    </tr>\n",
       "    <tr>\n",
       "      <th>65</th>\n",
       "      <td>66</td>\n",
       "      <td>OE3903242</td>\n",
       "      <td>Information and connection</td>\n",
       "      <td>2023-01-02</td>\n",
       "      <td>2024-01-31</td>\n",
       "      <td>8/12/2004</td>\n",
       "      <td>Male</td>\n",
       "      <td>Yerevan</td>\n",
       "      <td>UZ2756656360</td>\n",
       "      <td>Canceled</td>\n",
       "      <td>\\n(T79)</td>\n",
       "      <td>Traumatology</td>\n",
       "      <td>0.0</td>\n",
       "      <td>394 days</td>\n",
       "      <td>2004</td>\n",
       "      <td>20</td>\n",
       "    </tr>\n",
       "    <tr>\n",
       "      <th>66</th>\n",
       "      <td>67</td>\n",
       "      <td>OC2258896</td>\n",
       "      <td>Financial and insurance activities</td>\n",
       "      <td>2023-01-01</td>\n",
       "      <td>2023-12-31</td>\n",
       "      <td>17/09/1994</td>\n",
       "      <td>Female</td>\n",
       "      <td>Yerevan</td>\n",
       "      <td>SQ4404958413</td>\n",
       "      <td>Satisfied</td>\n",
       "      <td>Z04</td>\n",
       "      <td>Allergology</td>\n",
       "      <td>3007.0</td>\n",
       "      <td>364 days</td>\n",
       "      <td>1994</td>\n",
       "      <td>30</td>\n",
       "    </tr>\n",
       "    <tr>\n",
       "      <th>67</th>\n",
       "      <td>68</td>\n",
       "      <td>ET8765050</td>\n",
       "      <td>Financial and insurance activities</td>\n",
       "      <td>2023-01-01</td>\n",
       "      <td>2023-12-31</td>\n",
       "      <td>15/09/1998</td>\n",
       "      <td>Unknown</td>\n",
       "      <td>Yerevan</td>\n",
       "      <td>PE4277929623</td>\n",
       "      <td>Claim creation</td>\n",
       "      <td>Z04</td>\n",
       "      <td>Oncology</td>\n",
       "      <td>0.0</td>\n",
       "      <td>364 days</td>\n",
       "      <td>1998</td>\n",
       "      <td>26</td>\n",
       "    </tr>\n",
       "    <tr>\n",
       "      <th>68</th>\n",
       "      <td>69</td>\n",
       "      <td>MT1801014</td>\n",
       "      <td>Information and connection</td>\n",
       "      <td>2022-01-10</td>\n",
       "      <td>2023-09-30</td>\n",
       "      <td>11/5/1999</td>\n",
       "      <td>Female</td>\n",
       "      <td>Yerevan</td>\n",
       "      <td>HX3534253601</td>\n",
       "      <td>Satisfied</td>\n",
       "      <td>E55.9</td>\n",
       "      <td>Family doctor</td>\n",
       "      <td>7000.0</td>\n",
       "      <td>628 days</td>\n",
       "      <td>1999</td>\n",
       "      <td>25</td>\n",
       "    </tr>\n",
       "    <tr>\n",
       "      <th>69</th>\n",
       "      <td>70</td>\n",
       "      <td>GJ3228642</td>\n",
       "      <td>Professional, scientific and technical activities</td>\n",
       "      <td>2023-01-01</td>\n",
       "      <td>2023-12-31</td>\n",
       "      <td>29/05/1981</td>\n",
       "      <td>Female</td>\n",
       "      <td>Yerevan</td>\n",
       "      <td>ZG3429532934</td>\n",
       "      <td>Satisfied</td>\n",
       "      <td>N60.2</td>\n",
       "      <td>Family doctor</td>\n",
       "      <td>28450.0</td>\n",
       "      <td>364 days</td>\n",
       "      <td>1981</td>\n",
       "      <td>43</td>\n",
       "    </tr>\n",
       "  </tbody>\n",
       "</table>\n",
       "<p>70 rows × 16 columns</p>\n",
       "</div>"
      ],
      "text/plain": [
       "     N Insured person Code                                        Work sphere  \\\n",
       "0    1          QH6419321                             Individual entrepreneur   \n",
       "1    2          IY5242264   Wholesale and retail trade. Car and motorcycle...   \n",
       "2    3          CR2990565   Professional, scientific and technical activities   \n",
       "3    4          CE9774993                  Financial and insurance activities   \n",
       "4    5          EA2798820                          Information and connection   \n",
       "..  ..                 ...                                                ...   \n",
       "65  66          OE3903242                          Information and connection   \n",
       "66  67          OC2258896                  Financial and insurance activities   \n",
       "67  68          ET8765050                  Financial and insurance activities   \n",
       "68  69          MT1801014                          Information and connection   \n",
       "69  70          GJ3228642   Professional, scientific and technical activities   \n",
       "\n",
       "   Start Date   End Date         DOB      Sex   Region      Claim Code  \\\n",
       "0  2022-06-18 2023-06-17  14/10/2005   Female     Lori   GT2916303634    \n",
       "1  2022-01-07 2023-06-30  29/06/1988   Female  Yerevan   JU4564505110    \n",
       "2  2023-10-02 2024-09-02  25/10/1975   Female   Tavush   VD6289680601    \n",
       "3  2023-01-01 2023-12-31   4/10/1983   Female  Yerevan   KD9088354072    \n",
       "4  2023-03-15 2024-03-14  28/04/1990     Male  Yerevan   GR2730567929    \n",
       "..        ...        ...         ...      ...      ...             ...   \n",
       "65 2023-01-02 2024-01-31   8/12/2004     Male  Yerevan   UZ2756656360    \n",
       "66 2023-01-01 2023-12-31  17/09/1994   Female  Yerevan   SQ4404958413    \n",
       "67 2023-01-01 2023-12-31  15/09/1998  Unknown  Yerevan   PE4277929623    \n",
       "68 2022-01-10 2023-09-30   11/5/1999   Female  Yerevan   HX3534253601    \n",
       "69 2023-01-01 2023-12-31  29/05/1981   Female  Yerevan   ZG3429532934    \n",
       "\n",
       "      Claim Status Illness/ICD Code Illness/Category  Claim Amount  \\\n",
       "0        Satisfied              K02        Dentistry       18000.0   \n",
       "1        Satisfied        E55,Y44.1    Family doctor       37000.0   \n",
       "2        Satisfied    K02,K03.6,K04        Dentistry       45000.0   \n",
       "3        Satisfied              M54        Neurology           0.0   \n",
       "4        Satisfied      M54.5,R25.2        Neurology      110960.0   \n",
       "..             ...              ...              ...           ...   \n",
       "65        Canceled          \\n(T79)     Traumatology           0.0   \n",
       "66       Satisfied              Z04      Allergology        3007.0   \n",
       "67  Claim creation              Z04         Oncology           0.0   \n",
       "68       Satisfied            E55.9    Family doctor        7000.0   \n",
       "69       Satisfied            N60.2    Family doctor       28450.0   \n",
       "\n",
       "   Contract Longevity  BirthYear  Age  \n",
       "0            364 days       2005   19  \n",
       "1            539 days       1988   36  \n",
       "2            336 days       1975   49  \n",
       "3            364 days       1983   41  \n",
       "4            365 days       1990   34  \n",
       "..                ...        ...  ...  \n",
       "65           394 days       2004   20  \n",
       "66           364 days       1994   30  \n",
       "67           364 days       1998   26  \n",
       "68           628 days       1999   25  \n",
       "69           364 days       1981   43  \n",
       "\n",
       "[70 rows x 16 columns]"
      ]
     },
     "execution_count": 36,
     "metadata": {},
     "output_type": "execute_result"
    }
   ],
   "source": [
    "data.head(70)"
   ]
  },
  {
   "cell_type": "markdown",
   "metadata": {},
   "source": [
    "## Downloading the cleaned data and saving as a new csv file"
   ]
  },
  {
   "cell_type": "code",
   "execution_count": 37,
   "metadata": {},
   "outputs": [],
   "source": [
    "data.to_csv('cleaned_data.csv', index = False) "
   ]
  },
  {
   "cell_type": "markdown",
   "metadata": {},
   "source": [
    "## Statistical analysis"
   ]
  },
  {
   "cell_type": "markdown",
   "metadata": {},
   "source": [
    "### Descriptive statistics"
   ]
  },
  {
   "cell_type": "code",
   "execution_count": 39,
   "metadata": {},
   "outputs": [
    {
     "name": "stdout",
     "output_type": "stream",
     "text": [
      "Descriptive statistics for numerical columns:\n",
      "                   N  Claim Amount           Contract Longevity  \\\n",
      "count  249755.000000  2.497550e+05                       249755   \n",
      "mean   125067.128806  2.915239e+04  385 days 16:59:57.650421800   \n",
      "std     72187.334046  7.082029e+04  117 days 23:59:03.634306500   \n",
      "min         1.000000 -2.500000e+03          -332 days +00:00:00   \n",
      "25%     62542.500000  8.000000e+03            337 days 00:00:00   \n",
      "50%    125121.000000  1.500000e+04            364 days 00:00:00   \n",
      "75%    187572.500000  3.000000e+04            394 days 00:00:00   \n",
      "max    250033.000000  4.933260e+06            729 days 00:00:00   \n",
      "\n",
      "           BirthYear            Age  \n",
      "count  249755.000000  249755.000000  \n",
      "mean     1988.324702      35.675298  \n",
      "std        14.674593      14.674593  \n",
      "min      1930.000000       0.000000  \n",
      "25%      1981.000000      28.000000  \n",
      "50%      1989.000000      35.000000  \n",
      "75%      1996.000000      43.000000  \n",
      "max      2024.000000      94.000000  \n",
      "\n",
      "Summary statistics for categorical columns:\n",
      "       Insured person Code                 Work sphere       DOB     Sex  \\\n",
      "count               249755                      249755    249755  249755   \n",
      "unique               22434                          17     16188       3   \n",
      "top                   -     Information and connection  1/1/1995  Female   \n",
      "freq                 74044                      117449       204  151953   \n",
      "\n",
      "         Region      Claim Code Claim Status Illness/ICD Code Illness/Category  \n",
      "count    249754          249755       249755           249755           249755  \n",
      "unique       12          249733            6             9175               36  \n",
      "top     Yerevan   OY4385514488     Satisfied              Z00        Dentistry  \n",
      "freq     219568               2       233996            22708            42750  \n"
     ]
    }
   ],
   "source": [
    "desc_stats = data.describe()\n",
    "\n",
    "cat_stats = data.describe(include=['object'])\n",
    "\n",
    "print(\"Descriptive statistics for numerical columns:\")\n",
    "print(desc_stats)\n",
    "\n",
    "print(\"\\nSummary statistics for categorical columns:\")\n",
    "print(cat_stats)"
   ]
  },
  {
   "cell_type": "markdown",
   "metadata": {},
   "source": [
    "### Correlation analysis"
   ]
  },
  {
   "cell_type": "code",
   "execution_count": 41,
   "metadata": {},
   "outputs": [
    {
     "name": "stdout",
     "output_type": "stream",
     "text": [
      "Correlation matrix:\n",
      "                     N  Claim Amount  BirthYear       Age\n",
      "N             1.000000     -0.014535  -0.068797  0.068797\n",
      "Claim Amount -0.014535      1.000000  -0.066978  0.066978\n",
      "BirthYear    -0.068797     -0.066978   1.000000 -1.000000\n",
      "Age           0.068797      0.066978  -1.000000  1.000000\n"
     ]
    }
   ],
   "source": [
    "corr_matrix = data.corr()\n",
    "\n",
    "print(\"Correlation matrix:\")\n",
    "print(corr_matrix)"
   ]
  },
  {
   "cell_type": "markdown",
   "metadata": {},
   "source": [
    "### Grouped analysis"
   ]
  },
  {
   "cell_type": "code",
   "execution_count": 43,
   "metadata": {},
   "outputs": [
    {
     "name": "stdout",
     "output_type": "stream",
     "text": [
      "Mean claim amount by region:\n",
      "Region\n",
      "Aragatsotn     25151.633317\n",
      "Ararat         27716.370055\n",
      "Armavir        25872.933764\n",
      "Artsakh        28104.226131\n",
      "Gegharkunik    25986.911421\n",
      "Kotayk         25934.171422\n",
      "Lori           28517.681994\n",
      "Shirak         28808.555624\n",
      "Syunik         29601.977915\n",
      "Tavush         25362.423184\n",
      "Vayots Dzor    26837.892050\n",
      "Yerevan        29445.130930\n",
      "Name: Claim Amount, dtype: float64\n"
     ]
    }
   ],
   "source": [
    "region_mean_claim = data.groupby('Region')['Claim Amount'].mean()\n",
    "\n",
    "print(\"Mean claim amount by region:\")\n",
    "print(region_mean_claim)"
   ]
  },
  {
   "cell_type": "markdown",
   "metadata": {},
   "source": [
    "### Frequency analysis"
   ]
  },
  {
   "cell_type": "code",
   "execution_count": 47,
   "metadata": {},
   "outputs": [
    {
     "name": "stdout",
     "output_type": "stream",
     "text": [
      "Frequency of each illness category:\n",
      "Dentistry                        42750\n",
      "Family doctor                    30033\n",
      "Ophthalmology                    25324\n",
      "Annual medical examination       23514\n",
      "Gynecology                       15164\n",
      "ENT                              14732\n",
      "Endocrinology                    13819\n",
      "Pediatrics                       12420\n",
      "Neurology                        11223\n",
      "Dermatology                       8902\n",
      "Traumatology                      7616\n",
      "Cardiology                        7108\n",
      "Gastroenterology                  6443\n",
      "Urology                           4562\n",
      "Pregnancy                         3845\n",
      "General surgery                   3170\n",
      "Oncology                          3008\n",
      "Initial screening                 2430\n",
      "Angiology                         2307\n",
      "Rheumatology                      2295\n",
      "Proctology                        1855\n",
      "Vertebrology                      1492\n",
      "Obstetrics                        1485\n",
      "Allergology                       1163\n",
      "Psychiatry                         881\n",
      "Hematology                         492\n",
      "Unknown                            490\n",
      "Maxillofacial surgery              393\n",
      "Pulmonology                        240\n",
      "Epidemiology                       217\n",
      "Neurosurgery                       207\n",
      "Nephrological                      164\n",
      "Toxicology                           6\n",
      "Neonatology                          2\n",
      "Mandatory examination                2\n",
      "Mandatory medical examination        1\n",
      "Name: Illness/Category, dtype: int64\n"
     ]
    }
   ],
   "source": [
    "illness_category_counts = data['Illness/Category'].value_counts()\n",
    "\n",
    "print(\"Frequency of each illness category:\")\n",
    "print(illness_category_counts)"
   ]
  },
  {
   "cell_type": "markdown",
   "metadata": {},
   "source": [
    "### Hypothesis testing"
   ]
  },
  {
   "cell_type": "code",
   "execution_count": 49,
   "metadata": {},
   "outputs": [
    {
     "name": "stdout",
     "output_type": "stream",
     "text": [
      "T-statistic: 11.038529761384485\n",
      "P-value: 2.5293791932199203e-28\n"
     ]
    }
   ],
   "source": [
    "from scipy import stats\n",
    "\n",
    "male_claims = data[data['Sex'] == 'Male']['Claim Amount']\n",
    "female_claims = data[data['Sex'] == 'Female']['Claim Amount']\n",
    "\n",
    "t_stat, p_value = stats.ttest_ind(male_claims, female_claims)\n",
    "\n",
    "print(\"T-statistic:\", t_stat)\n",
    "print(\"P-value:\", p_value)"
   ]
  }
 ],
 "metadata": {
  "kernelspec": {
   "display_name": "Python 3",
   "language": "python",
   "name": "python3"
  },
  "language_info": {
   "codemirror_mode": {
    "name": "ipython",
    "version": 3
   },
   "file_extension": ".py",
   "mimetype": "text/x-python",
   "name": "python",
   "nbconvert_exporter": "python",
   "pygments_lexer": "ipython3",
   "version": "3.8.5"
  }
 },
 "nbformat": 4,
 "nbformat_minor": 4
}
